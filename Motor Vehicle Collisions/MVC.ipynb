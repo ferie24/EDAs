{
 "cells": [
  {
   "cell_type": "markdown",
   "metadata": {
    "vscode": {
     "languageId": "plaintext"
    }
   },
   "source": [
    "# Motor Vehicle Collisions crash table\n",
    "Data from: https://catalog.data.gov/dataset/motor-vehicle-collisions-crashes\n"
   ]
  },
  {
   "cell_type": "code",
   "execution_count": 68,
   "metadata": {},
   "outputs": [],
   "source": [
    "# Imports \n",
    "import pandas as pd \n",
    "import numpy as np\n",
    "import matplotlib.pyplot as plt\n",
    "from scipy import stats\n",
    "import random"
   ]
  },
  {
   "cell_type": "code",
   "execution_count": 69,
   "metadata": {},
   "outputs": [
    {
     "name": "stderr",
     "output_type": "stream",
     "text": [
      "/var/folders/3y/snyjd7qd59d_gxq1x0y5gywh0000gn/T/ipykernel_39538/2458010851.py:1: DtypeWarning: Columns (3) have mixed types. Specify dtype option on import or set low_memory=False.\n",
      "  data = pd.read_csv('Motor_Vehicle_Collisions_-_Crashes.csv')\n"
     ]
    }
   ],
   "source": [
    "data = pd.read_csv('Motor_Vehicle_Collisions_-_Crashes.csv')"
   ]
  },
  {
   "cell_type": "code",
   "execution_count": 70,
   "metadata": {},
   "outputs": [],
   "source": [
    "data.head()\n",
    "data = data.drop_duplicates()\n"
   ]
  },
  {
   "cell_type": "code",
   "execution_count": 71,
   "metadata": {},
   "outputs": [
    {
     "data": {
      "text/plain": [
       "CONTRIBUTING FACTOR VEHICLE 2\n",
       "Unspecified                       1528459\n",
       "Driver Inattention/Distraction      97810\n",
       "Other Vehicular                     33116\n",
       "Following Too Closely               19977\n",
       "Failure to Yield Right-of-Way       17630\n",
       "                                   ...   \n",
       "Eating or Drinking                     13\n",
       "Listening/Using Headphones             12\n",
       "Windshield Inadequate                   7\n",
       "1                                       5\n",
       "Texting                                 3\n",
       "Name: count, Length: 61, dtype: int64"
      ]
     },
     "execution_count": 71,
     "metadata": {},
     "output_type": "execute_result"
    }
   ],
   "source": [
    "contributing_Factors_vehicle_1 = data[\"CONTRIBUTING FACTOR VEHICLE 1\"].value_counts()\n",
    "data['CONTRIBUTING FACTOR VEHICLE 2'].value_counts()"
   ]
  },
  {
   "cell_type": "code",
   "execution_count": 72,
   "metadata": {},
   "outputs": [
    {
     "name": "stdout",
     "output_type": "stream",
     "text": [
      "     CRASH DATE CRASH TIME   BOROUGH ZIP CODE   LATITUDE  LONGITUDE  \\\n",
      "2    11/01/2023       1:29  BROOKLYN  11230.0  40.621790 -73.970024   \n",
      "25   12/14/2021      14:30       NaN      NaN  40.783268 -73.824850   \n",
      "69   04/24/2022       0:30       NaN      NaN  40.638382 -74.036680   \n",
      "119  03/10/2022       8:30  BROOKLYN  11238.0  40.676403 -73.962870   \n",
      "121  03/26/2022       7:36  BROOKLYN  11209.0  40.613926 -74.030174   \n",
      "\n",
      "                    LOCATION         ON STREET NAME CROSS STREET NAME  \\\n",
      "2     (40.62179, -73.970024)          OCEAN PARKWAY          AVENUE K   \n",
      "25    (40.783268, -73.82485)  WHITESTONE EXPRESSWAY               NaN   \n",
      "69    (40.638382, -74.03668)           BELT PARKWAY               NaN   \n",
      "119   (40.676403, -73.96287)         PROSPECT PLACE      GRAND AVENUE   \n",
      "121  (40.613926, -74.030174)  FORT HAMILTON PARKWAY         97 STREET   \n",
      "\n",
      "    OFF STREET NAME  ...  CONTRIBUTING FACTOR VEHICLE 2  \\\n",
      "2               NaN  ...                    Unspecified   \n",
      "25              NaN  ...                    Unspecified   \n",
      "69              NaN  ...                    Unspecified   \n",
      "119             NaN  ...          Following Too Closely   \n",
      "121             NaN  ...                    Unspecified   \n",
      "\n",
      "     CONTRIBUTING FACTOR VEHICLE 3  CONTRIBUTING FACTOR VEHICLE 4  \\\n",
      "2                      Unspecified                            NaN   \n",
      "25                     Unspecified                            NaN   \n",
      "69                     Unspecified                    Unspecified   \n",
      "119                    Unspecified                            NaN   \n",
      "121                    Unspecified                            NaN   \n",
      "\n",
      "     CONTRIBUTING FACTOR VEHICLE 5  COLLISION_ID  \\\n",
      "2                              NaN       4675373   \n",
      "25                             NaN       4486537   \n",
      "69                             NaN       4521469   \n",
      "119                            NaN       4514323   \n",
      "121                            NaN       4513515   \n",
      "\n",
      "                     VEHICLE TYPE CODE 1                  VEHICLE TYPE CODE 2  \\\n",
      "2                                  Moped                                Sedan   \n",
      "25   Station Wagon/Sport Utility Vehicle                                Sedan   \n",
      "69                                 Sedan                                Sedan   \n",
      "119  Station Wagon/Sport Utility Vehicle  Station Wagon/Sport Utility Vehicle   \n",
      "121  Station Wagon/Sport Utility Vehicle                                 Taxi   \n",
      "\n",
      "                     VEHICLE TYPE CODE 3                  VEHICLE TYPE CODE 4  \\\n",
      "2                                  Sedan                                  NaN   \n",
      "25                                 Sedan                                  NaN   \n",
      "69   Station Wagon/Sport Utility Vehicle  Station Wagon/Sport Utility Vehicle   \n",
      "119                                Sedan                                  NaN   \n",
      "121                                Sedan                                  NaN   \n",
      "\n",
      "    VEHICLE TYPE CODE 5  \n",
      "2                   NaN  \n",
      "25                  NaN  \n",
      "69                  NaN  \n",
      "119                 NaN  \n",
      "121                 NaN  \n",
      "\n",
      "[5 rows x 29 columns]\n",
      "Number of crashes with 3 or more contributing factors: 155485\n"
     ]
    }
   ],
   "source": [
    "df = data.copy()\n",
    "\n",
    "num_3_crashes = df.dropna(subset=['CONTRIBUTING FACTOR VEHICLE 1', 'CONTRIBUTING FACTOR VEHICLE 2', 'CONTRIBUTING FACTOR VEHICLE 3'])\n",
    "num_crashes_3_or_more = num_3_crashes.shape[0]\n",
    "print(num_3_crashes.head())\n",
    "print(f\"Number of crashes with 3 or more contributing factors: {num_crashes_3_or_more}\")"
   ]
  },
  {
   "cell_type": "code",
   "execution_count": 73,
   "metadata": {},
   "outputs": [],
   "source": [
    "import streamlit as st\n",
    "import pandas as pd \n",
    "import altair as alt\n",
    "import plotly.express as px \n"
   ]
  },
  {
   "cell_type": "code",
   "execution_count": 74,
   "metadata": {},
   "outputs": [
    {
     "name": "stderr",
     "output_type": "stream",
     "text": [
      "2025-03-13 14:47:35.679 Thread 'MainThread': missing ScriptRunContext! This warning can be ignored when running in bare mode.\n"
     ]
    },
    {
     "data": {
      "text/plain": [
       "ThemeRegistry.enable('dark')"
      ]
     },
     "execution_count": 74,
     "metadata": {},
     "output_type": "execute_result"
    }
   ],
   "source": [
    "st.set_page_config(\n",
    "    page_title=\"test\", \n",
    "    page_icon=\"X\",\n",
    "    layout=\"wide\", \n",
    "    initial_sidebar_state=\"expanded\"\n",
    ")\n",
    "alt.themes.enable(\"dark\")"
   ]
  },
  {
   "cell_type": "code",
   "execution_count": 75,
   "metadata": {},
   "outputs": [],
   "source": [
    "columns_to_drop = [\n",
    "    'VEHICLE TYPE CODE 1', 'VEHICLE TYPE CODE 2', 'VEHICLE TYPE CODE 3', \n",
    "    'VEHICLE TYPE CODE 4', 'VEHICLE TYPE CODE 5', \n",
    "    'CONTRIBUTING FACTOR VEHICLE 1', 'CONTRIBUTING FACTOR VEHICLE 2', \n",
    "    'CONTRIBUTING FACTOR VEHICLE 3', 'CONTRIBUTING FACTOR VEHICLE 4', \n",
    "    'CONTRIBUTING FACTOR VEHICLE 5', 'NUMBER OF PERSONS INJURED', \n",
    "    'NUMBER OF CYCLIST INJURED', 'NUMBER OF CYCLIST KILLED', 'NUMBER OF MOTORIST INJURED', \n",
    "    'NUMBER OF MOTORIST KILLED', 'NUMBER OF PEDESTRIANS INJURED', 'NUMBER OF PEDESTRIANS KILLED', 'NUMBER OF PERSONS KILLED'\n",
    "]\n",
    "copy = data.copy()\n",
    "copy = copy.drop(columns=columns_to_drop)\n",
    "copy = copy.dropna(subset=['LATITUDE', 'LONGITUDE'])\n",
    "copy.rename(columns={'LATITUDE': 'latitude', 'LONGITUDE': 'longitude'}, inplace=True)\n"
   ]
  },
  {
   "cell_type": "code",
   "execution_count": 76,
   "metadata": {},
   "outputs": [
    {
     "name": "stdout",
     "output_type": "stream",
     "text": [
      "2012\n"
     ]
    }
   ],
   "source": [
    "copy['CRASH DATE'].min()\n",
    "copy['CRASH DATE'] = pd.to_datetime(copy['CRASH DATE'])\n",
    "filtered_data = copy[(copy['CRASH DATE'].dt.year >= 2020) & (copy['CRASH DATE'].dt.year <= 2025)]\n",
    "year = copy['CRASH DATE'].min().year\n",
    "print(year)"
   ]
  },
  {
   "cell_type": "code",
   "execution_count": 77,
   "metadata": {},
   "outputs": [
    {
     "name": "stdout",
     "output_type": "stream",
     "text": [
      "   CRASH DATE CRASH TIME   BOROUGH ZIP CODE   latitude  longitude  \\\n",
      "2  2023-11-01       1:29  BROOKLYN  11230.0  40.621790 -73.970024   \n",
      "9  2021-09-11       9:35  BROOKLYN  11208.0  40.667202 -73.866500   \n",
      "10 2021-12-14       8:13  BROOKLYN  11233.0  40.683304 -73.917274   \n",
      "12 2021-12-14      17:05       NaN      NaN  40.709183 -73.956825   \n",
      "13 2021-12-14       8:17     BRONX  10475.0  40.868160 -73.831480   \n",
      "\n",
      "                   LOCATION              ON STREET NAME CROSS STREET NAME  \\\n",
      "2    (40.62179, -73.970024)               OCEAN PARKWAY          AVENUE K   \n",
      "9     (40.667202, -73.8665)                         NaN               NaN   \n",
      "10  (40.683304, -73.917274)             SARATOGA AVENUE    DECATUR STREET   \n",
      "12  (40.709183, -73.956825)  BROOKLYN QUEENS EXPRESSWAY               NaN   \n",
      "13    (40.86816, -73.83148)                         NaN               NaN   \n",
      "\n",
      "                OFF STREET NAME  COLLISION_ID  \n",
      "2                           NaN       4675373  \n",
      "9       1211      LORING AVENUE       4456314  \n",
      "10                          NaN       4486609  \n",
      "12                          NaN       4486555  \n",
      "13  344       BAYCHESTER AVENUE       4486660  \n",
      "Number of accidents in New York City area: 1912132\n"
     ]
    }
   ],
   "source": [
    "# Define the bounding box for New York City\n",
    "min_lat, max_lat = 40.477399, 40.917577\n",
    "min_lon, max_lon = -74.259090, -73.700272\n",
    "\n",
    "# Filter the data for accidents within the bounding box\n",
    "nyc_data = copy[(copy['latitude'] >= min_lat) & (copy['latitude'] <= max_lat) & \n",
    "                (copy['longitude'] >= min_lon) & (copy['longitude'] <= max_lon)]\n",
    "\n",
    "# Remove outliers by ensuring latitude and longitude are within the bounding box\n",
    "nyc_data = nyc_data[(nyc_data['latitude'] != 0) & (nyc_data['longitude'] != 0)]\n",
    "\n",
    "print(nyc_data.head())\n",
    "print(f\"Number of accidents in New York City area: {nyc_data.shape[0]}\")"
   ]
  },
  {
   "cell_type": "code",
   "execution_count": 78,
   "metadata": {},
   "outputs": [],
   "source": [
    "from geopy.geocoders import Nominatim\n",
    "\n",
    "def fill_missing_borough_zipcode(data):\n",
    "    geolocator = Nominatim(user_agent=\"mvc_streamlit\")\n",
    "    \n",
    "    def get_location_info(row):\n",
    "        if pd.isna(row['BOROUGH']) or pd.isna(row['ZIP CODE']):\n",
    "            try:\n",
    "                print(f\"{row['latitude']}, {row['longitude']}\")\n",
    "                location = geolocator.reverse(f\"{row['latitude']}, {row['longitude']}\")\n",
    "                \n",
    "                print(\"Loc: \" ,location)\n",
    "                if location:\n",
    "                    address = location.raw.get('address', {})\n",
    "                    row['BOROUGH'] = address.get('borough', row['BOROUGH'])\n",
    "                    row['ZIP CODE'] = address.get('postcode', row['ZIP CODE'])\n",
    "            except Exception as e:\n",
    "                print(\"Exception: \", e)\n",
    "        return row\n",
    "\n",
    "    data = data.apply(get_location_info, axis=1)\n",
    "    return data\n",
    "\n",
    "#nyc_data = fill_missing_borough_zipcode(nyc_data)\n"
   ]
  },
  {
   "cell_type": "code",
   "execution_count": 79,
   "metadata": {},
   "outputs": [],
   "source": [
    "from sklearn.neighbors import NearestNeighbors\n",
    "def fill_zip_boroughs_with_closest(data): \n",
    "    data = data.dropna(subset=['LATITUDE', 'LONGITUDE'])\n",
    "    # Going to match the closest coordinates to with the zip code and maybe the street? \n",
    "    missing_borough_zip = data[pd.isna(data['BOROUGH']) | pd.isna(data['ZIP CODE'])]\n",
    "    complete_borough_zip = data.dropna(subset=['BOROUGH', 'ZIP CODE'])\n",
    "    coords = complete_borough_zip[['LATITUDE', 'LONGITUDE']]\n",
    "    nbrs = NearestNeighbors(n_neighbors=1, algorithm='ball_tree').fit(coords)\n",
    "    distances, indices = nbrs.kneighbors(missing_borough_zip[['LATITUDE', 'LONGITUDE']])\n",
    "\n",
    "    # Use vectorized operations to update missing values\n",
    "    missing_borough_zip.loc[:, 'BOROUGH'] = complete_borough_zip.iloc[indices.flatten()]['BOROUGH'].values\n",
    "    missing_borough_zip.loc[:, 'ZIP CODE'] = complete_borough_zip.iloc[indices.flatten()]['ZIP CODE'].values\n",
    "\n",
    "    data.update(missing_borough_zip)\n",
    "    return data"
   ]
  },
  {
   "cell_type": "code",
   "execution_count": 80,
   "metadata": {},
   "outputs": [
    {
     "name": "stdout",
     "output_type": "stream",
     "text": [
      "Number of NaNs in BOROUGH before calling the function: 667675\n",
      "Number of NaNs in BOROUGH after calling the function: 0\n"
     ]
    }
   ],
   "source": [
    "\n",
    "print(\"Number of NaNs in BOROUGH before calling the function:\", data['BOROUGH'].isna().sum())\n",
    "data = fill_zip_boroughs_with_closest(data)\n",
    "print(\"Number of NaNs in BOROUGH after calling the function:\", data['BOROUGH'].isna().sum())\n",
    "data.to_csv('filled_data.csv')\n"
   ]
  }
 ],
 "metadata": {
  "kernelspec": {
   "display_name": "base",
   "language": "python",
   "name": "python3"
  },
  "language_info": {
   "codemirror_mode": {
    "name": "ipython",
    "version": 3
   },
   "file_extension": ".py",
   "mimetype": "text/x-python",
   "name": "python",
   "nbconvert_exporter": "python",
   "pygments_lexer": "ipython3",
   "version": "3.12.2"
  }
 },
 "nbformat": 4,
 "nbformat_minor": 2
}
