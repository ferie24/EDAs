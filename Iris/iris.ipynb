{
 "cells": [
  {
   "cell_type": "markdown",
   "metadata": {},
   "source": [
    "# EDA of Iris Dataset \n",
    "1. Explorative Data Analysis \n",
    "2. Possible prediction algo to predict the Species"
   ]
  },
  {
   "cell_type": "code",
   "execution_count": 1,
   "metadata": {},
   "outputs": [],
   "source": [
    "# Imports \n",
    "import pandas as pd \n",
    "import numpy as np\n",
    "import matplotlib.pyplot as plt\n",
    "from scipy import stats"
   ]
  },
  {
   "cell_type": "code",
   "execution_count": 2,
   "metadata": {},
   "outputs": [],
   "source": [
    "# Loading the data\n",
    "data = pd.read_csv(\"Iris.csv\")"
   ]
  },
  {
   "cell_type": "code",
   "execution_count": 3,
   "metadata": {},
   "outputs": [
    {
     "name": "stdout",
     "output_type": "stream",
     "text": [
      "Size before cleaning:  150\n",
      "Size after cleaning:  149\n"
     ]
    }
   ],
   "source": [
    "# Cleaning up the Dataset \n",
    "print(\"Size before cleaning: \", len(data))\n",
    "\n",
    "# Removing duplicate rows\n",
    "data = data.drop_duplicates()\n",
    "\n",
    "# Removing NaN values\n",
    "data = data.dropna()\n",
    "\n",
    "# Removing outliers using Z-score\n",
    "z_scores = np.abs(stats.zscore(data.select_dtypes(include=[np.number])))\n",
    "data = data[(z_scores < 3).all(axis=1)]\n",
    "\n",
    "print(\"Size after cleaning: \", len(data))"
   ]
  },
  {
   "cell_type": "code",
   "execution_count": 4,
   "metadata": {},
   "outputs": [
    {
     "name": "stdout",
     "output_type": "stream",
     "text": [
      "Species\n",
      "Iris-versicolor    50\n",
      "Iris-virginica     50\n",
      "Iris-setosa        49\n",
      "Name: count, dtype: int64\n"
     ]
    },
    {
     "data": {
      "text/plain": [
       "<Figure size 640x480 with 0 Axes>"
      ]
     },
     "metadata": {},
     "output_type": "display_data"
    }
   ],
   "source": [
    "# Getting information about the dataset \n",
    "print(data['Species'].value_counts())\n",
    "versicolor = data[data['Species'] == \"Iris-versicolor\"]\n",
    "virginica = data[data['Species'] == \"Iris-virginica\"]\n",
    "setosa = data[data['Species'] == \"Iris-setosa\"]\n",
    "\n",
    "def make_boxplots(dataset, name):\n",
    "    # Boxplots for Versicolor Sepal and Petal dimensions\n",
    "    fig, axs = plt.subplots(2, 2, figsize=(8, 4))\n",
    "\n",
    "    # Sepal Length\n",
    "    axs[0, 0].boxplot(dataset['SepalLengthCm'])\n",
    "    axs[0, 0].set_title(f'{name} Sepal Length')\n",
    "\n",
    "    # Sepal Width\n",
    "    axs[0, 1].boxplot(dataset['SepalWidthCm'])\n",
    "    axs[0, 1].set_title(f'{name} Sepal Width')\n",
    "\n",
    "    # Petal Length\n",
    "    axs[1, 0].boxplot(dataset['PetalLengthCm'])\n",
    "    axs[1, 0].set_title(f'{name} Petal Length')\n",
    "\n",
    "    # Petal Width\n",
    "    axs[1, 1].boxplot(dataset['PetalWidthCm'])\n",
    "    axs[1, 1].set_title(f'{name} Petal Width')\n",
    "\n",
    "    plt.tight_layout()\n",
    "    plt.close(fig)\n",
    "    plt.savefig(f'Graphics/Boxplots_{name}.png')\n",
    "\n",
    "make_boxplots(versicolor, \"Versicolor\")\n",
    "make_boxplots(virginica, \"Virginica\")\n",
    "make_boxplots(setosa, \"Setosa\")\n",
    "    "
   ]
  },
  {
   "cell_type": "markdown",
   "metadata": {},
   "source": [
    "## Information about the Dataset: \n",
    "Species<br>\n",
    "Iris-versicolor - 50 <br>\n",
    "Iris-virginica - 50 <br>\n",
    "Iris-setosa - 49 <br>\n",
    "### Iris - Setosa \n",
    "![image.png](Graphics/Boxplots_Setosa.png)\n",
    "### Iris - Versicolor \n",
    "![image.png](Graphics/Boxplots_Versicolor.png)\n",
    "### Iris - Virginica \n",
    "![image.png](Graphics/Boxplots_Virginica.png)\n"
   ]
  },
  {
   "cell_type": "markdown",
   "metadata": {},
   "source": [
    "## Small NN for Classification between the sets\n",
    "This will probalby not yield great results as the dataset is so small"
   ]
  },
  {
   "cell_type": "code",
   "execution_count": 5,
   "metadata": {},
   "outputs": [],
   "source": [
    "import torch\n",
    "import torch.nn as nn\n",
    "\n",
    "class MLP(nn.Module): \n",
    "    def __init__(self, dim_in, classes): \n",
    "        self.mlp = nn.Sequential(\n",
    "            nn.Linear(dim_in, 16),\n",
    "            nn.Linear(16, 32),\n",
    "            nn.Linear(32, 64),\n",
    "            nn.Linear(64, classes)\n",
    "        )\n",
    "        self.tanh = nn.Tanh()\n",
    "\n",
    "    def forward(self, x): \n",
    "        out = self.mlp(x)\n",
    "        out = self.tanh(out)\n",
    "        return out"
   ]
  },
  {
   "cell_type": "code",
   "execution_count": 6,
   "metadata": {},
   "outputs": [],
   "source": [
    "# Prepare the Data for MLP \n",
    "copy_data = data\n",
    "# One-hot encode the Species column\n",
    "copy_data['Species'] = copy_data['Species'].astype('category').cat.codes\n",
    "\n",
    "# Remove the 'Id' column\n",
    "copy_data = copy_data.drop(columns=['Id'])\n",
    "\n",
    "# Convert the DataFrame to a numpy array\n",
    "data_array = copy_data.to_numpy\n",
    "\n",
    "\n",
    "\n",
    "def train(data, num_epochs, batch_size, ):\n",
    "    pass"
   ]
  }
 ],
 "metadata": {
  "kernelspec": {
   "display_name": "base",
   "language": "python",
   "name": "python3"
  },
  "language_info": {
   "codemirror_mode": {
    "name": "ipython",
    "version": 3
   },
   "file_extension": ".py",
   "mimetype": "text/x-python",
   "name": "python",
   "nbconvert_exporter": "python",
   "pygments_lexer": "ipython3",
   "version": "3.12.8"
  }
 },
 "nbformat": 4,
 "nbformat_minor": 2
}
